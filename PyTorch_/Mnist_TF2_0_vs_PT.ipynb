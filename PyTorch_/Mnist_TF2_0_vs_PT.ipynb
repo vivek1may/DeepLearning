{
  "nbformat": 4,
  "nbformat_minor": 0,
  "metadata": {
    "colab": {
      "name": "Mnist-TF2.0_vs_PT.ipynb",
      "provenance": [],
      "private_outputs": true,
      "collapsed_sections": [],
      "toc_visible": true,
      "include_colab_link": true
    },
    "kernelspec": {
      "name": "python3",
      "display_name": "Python 3"
    },
    "accelerator": "GPU"
  },
  "cells": [
    {
      "cell_type": "markdown",
      "metadata": {
        "id": "view-in-github",
        "colab_type": "text"
      },
      "source": [
        "<a href=\"https://colab.research.google.com/github/vivek1may/DeepLearning/blob/master/Mnist_TF2_0_vs_PT.ipynb\" target=\"_parent\"><img src=\"https://colab.research.google.com/assets/colab-badge.svg\" alt=\"Open In Colab\"/></a>"
      ]
    },
    {
      "cell_type": "markdown",
      "metadata": {
        "id": "QQ2w4dgNEVBA",
        "colab_type": "text"
      },
      "source": [
        "# MNIST TF v2.0 vs PyTorch"
      ]
    },
    {
      "cell_type": "code",
      "metadata": {
        "id": "Lfk7ozfhEbRu",
        "colab_type": "code",
        "colab": {}
      },
      "source": [
        "from __future__ import absolute_import, division, print_function, unicode_literals\n",
        "\n",
        "try:\n",
        "  %tensorflow_version 2.x\n",
        "except Exception:\n",
        "  print(Exception)\n",
        "  pass\n",
        "\n",
        "import tensorflow as tf"
      ],
      "execution_count": 0,
      "outputs": []
    },
    {
      "cell_type": "code",
      "metadata": {
        "id": "xoDxdtsXEu0X",
        "colab_type": "code",
        "colab": {}
      },
      "source": [
        "#Load data\n",
        "mnist = tf.keras.datasets.mnist\n",
        "(x_train,y_train), (x_test,y_test) = mnist.load_data() \n"
      ],
      "execution_count": 0,
      "outputs": []
    },
    {
      "cell_type": "code",
      "metadata": {
        "id": "KD5yGxdwE9zS",
        "colab_type": "code",
        "colab": {}
      },
      "source": [
        "#normalize the data\n",
        "x_train , x_test = x_train/255, x_test/255"
      ],
      "execution_count": 0,
      "outputs": []
    },
    {
      "cell_type": "code",
      "metadata": {
        "id": "FUSrnHEaFGHV",
        "colab_type": "code",
        "colab": {}
      },
      "source": [
        "#Build a sequential model \n",
        "\n",
        "model = tf.keras.models.Sequential([\n",
        "                                    tf.keras.layers.Flatten(input_shape=(28,28)),\n",
        "                                    tf.keras.layers.Dense(128,activation='relu'),\n",
        "                                    tf.keras.layers.Dropout(.2),\n",
        "                                    tf.keras.layers.Dense(10,activation='softmax')     \n",
        "])"
      ],
      "execution_count": 0,
      "outputs": []
    },
    {
      "cell_type": "code",
      "metadata": {
        "id": "Mwh27DCOFvC-",
        "colab_type": "code",
        "colab": {}
      },
      "source": [
        "#Compile the model with optimizer and loss function \n",
        "\n",
        "model.compile(optimizer='adam',loss='sparse_categorical_crossentropy',\n",
        "              metrics=['accuracy'])"
      ],
      "execution_count": 0,
      "outputs": []
    },
    {
      "cell_type": "code",
      "metadata": {
        "id": "iY0qYuD-F9dl",
        "colab_type": "code",
        "colab": {}
      },
      "source": [
        "#Train the model \n",
        "model.fit(x_train,y_train,epochs=5)"
      ],
      "execution_count": 0,
      "outputs": []
    },
    {
      "cell_type": "code",
      "metadata": {
        "id": "8Eg4eq-sGBTf",
        "colab_type": "code",
        "colab": {}
      },
      "source": [
        "model.evaluate(x_test,y_test)"
      ],
      "execution_count": 0,
      "outputs": []
    },
    {
      "cell_type": "code",
      "metadata": {
        "id": "AJxXZ0ifGIV6",
        "colab_type": "code",
        "colab": {}
      },
      "source": [
        ""
      ],
      "execution_count": 0,
      "outputs": []
    },
    {
      "cell_type": "code",
      "metadata": {
        "id": "5VIkh59tGIEp",
        "colab_type": "code",
        "colab": {}
      },
      "source": [
        "#Pytorch "
      ],
      "execution_count": 0,
      "outputs": []
    },
    {
      "cell_type": "code",
      "metadata": {
        "id": "kLOFiJBWGZIq",
        "colab_type": "code",
        "colab": {}
      },
      "source": [
        "import torch\n",
        "import numpy as np\n",
        "from torch.utils.data import DataLoader, Dataset"
      ],
      "execution_count": 0,
      "outputs": []
    },
    {
      "cell_type": "code",
      "metadata": {
        "id": "VXQb5tQKGj0l",
        "colab_type": "code",
        "colab": {}
      },
      "source": [
        "#custom DataSet\n",
        "\n",
        "class testData(Dataset):\n",
        "  def __init__(self,x,y):\n",
        "    self.x = x\n",
        "    self.y = y\n",
        "\n",
        "  def __len__(self):\n",
        "    return len(self.x)\n",
        "\n",
        "  def __getitem__(self,idx):\n",
        "    return self.x[idx], self.y[idx]\n",
        "\n",
        "\n",
        "class trainData(Dataset):\n",
        "  def __init__(self,x,y):\n",
        "    self.x = x\n",
        "    self.y = y\n",
        "\n",
        "  def __len__(self):\n",
        "    return len(self.x)\n",
        "\n",
        "  def __getitem__(self,idx):\n",
        "    return self.x[idx], self.y[idx]\n"
      ],
      "execution_count": 0,
      "outputs": []
    },
    {
      "cell_type": "code",
      "metadata": {
        "id": "76eTyilKHf0v",
        "colab_type": "code",
        "colab": {}
      },
      "source": [
        "#Initialize the Dataset1\n",
        "x_train1, y_train1, x_test1, y_test1 = np.float32(x_train), np.float32(y_train), np.float32(x_test), np.float32(y_test)\n",
        "train_data = trainData(x_train1,y_train)\n",
        "test_data = testData(x_test1,y_test)"
      ],
      "execution_count": 0,
      "outputs": []
    },
    {
      "cell_type": "code",
      "metadata": {
        "id": "2thEb1gKH2zh",
        "colab_type": "code",
        "colab": {}
      },
      "source": [
        "# Initialize the Dataloader\n",
        "train_loader =  DataLoader(train_data, batch_size=32)\n",
        "test_loader = DataLoader(test_data, batch_size=32)"
      ],
      "execution_count": 0,
      "outputs": []
    },
    {
      "cell_type": "code",
      "metadata": {
        "id": "AGTjDR-QIqCF",
        "colab_type": "code",
        "colab": {}
      },
      "source": [
        "#Define the model equivalent to Tensorflow model which created above \n",
        "import torch.nn as nn\n",
        "import torch.nn.functional as F\n",
        "import torch.optim as optim\n"
      ],
      "execution_count": 0,
      "outputs": []
    },
    {
      "cell_type": "code",
      "metadata": {
        "id": "751lgXSxJiZB",
        "colab_type": "code",
        "colab": {}
      },
      "source": [
        "class Net(nn.Module):\n",
        "  def __init__(self):\n",
        "    super(Net,self).__init__()\n",
        "    self.fc1 = nn.Linear(28*28,128)\n",
        "    self.fc2 = nn.Linear(128,10)\n",
        "    self.dropout = nn.Dropout(.2)\n",
        "\n",
        "  def forward(self,x):\n",
        "    x = x.view(x.shape[0],-1)\n",
        "    x = self.fc1(x)\n",
        "    x = F.relu(x)\n",
        "    x = self.dropout(x)\n",
        "    x = self.fc2(x)\n",
        "    op = F.log_softmax(x,dim=1)\n",
        "\n",
        "    return op"
      ],
      "execution_count": 0,
      "outputs": []
    },
    {
      "cell_type": "code",
      "metadata": {
        "id": "HCdHSqAVLfUj",
        "colab_type": "code",
        "colab": {}
      },
      "source": [
        "device = torch.device(\"cuda\")"
      ],
      "execution_count": 0,
      "outputs": []
    },
    {
      "cell_type": "code",
      "metadata": {
        "id": "LPdnAH94LnDE",
        "colab_type": "code",
        "colab": {}
      },
      "source": [
        "model = Net().to(device)"
      ],
      "execution_count": 0,
      "outputs": []
    },
    {
      "cell_type": "code",
      "metadata": {
        "id": "5b92E3sSLxUh",
        "colab_type": "code",
        "colab": {}
      },
      "source": [
        "learning_rage = .1\n",
        "optimizer = optim.Adam(model.parameters())\n",
        "#Using negative log likelihood \n",
        "lossFun = F.nll_loss"
      ],
      "execution_count": 0,
      "outputs": []
    },
    {
      "cell_type": "code",
      "metadata": {
        "id": "XyVO9uyhNQay",
        "colab_type": "code",
        "colab": {}
      },
      "source": [
        "def train(model, device, train_loader, optimizer,lossFun, epoch):\n",
        "    model.train()\n",
        "    for batch_idx, (data, target) in enumerate(train_loader):\n",
        "        data, target = data.to(device), target.long().to(device)\n",
        "        optimizer.zero_grad()\n",
        "        output = model(data)\n",
        "        loss = lossFun(output, target)\n",
        "        loss.backward()\n",
        "        optimizer.step()\n",
        "        if batch_idx % 100 == 0:\n",
        "            print('Train Epoch: {} [{}/{} ({:.0f}%)]\\tLoss: {:.6f}'.format(\n",
        "                epoch, batch_idx * len(data), len(train_loader.dataset),\n",
        "                100. * batch_idx / len(train_loader), loss.item()))"
      ],
      "execution_count": 0,
      "outputs": []
    },
    {
      "cell_type": "code",
      "metadata": {
        "id": "cLzVwQ_ETHpM",
        "colab_type": "code",
        "colab": {}
      },
      "source": [
        "def test(model,device,test_loader,lossFun):\n",
        "  model.eval()\n",
        "  test_loss =0\n",
        "  correct = 0\n",
        "\n",
        "  #disable the grad\n",
        "  with torch.no_grad():\n",
        "    for data,target in test_loader:\n",
        "      data, target = data.to(device), target.long().to(device)\n",
        "      output = model(data)\n",
        "      test_loss += lossFun(output,target,reduction='sum').item()\n",
        "      pred = output.argmax(dim=1, keepdim =True)\n",
        "      correct += pred.eq(target.view_as(pred)).sum().item()\n",
        "\n",
        "  test_loss /= len(test_loader.dataset)\n",
        "\n",
        "  print('\\nTest set: Average loss: {:.4f}, Accuracy: {}/{} ({:.0f}%)\\n'.format(\n",
        "      test_loss, correct, len(test_loader.dataset),\n",
        "      100. * correct / len(test_loader.dataset)))"
      ],
      "execution_count": 0,
      "outputs": []
    },
    {
      "cell_type": "code",
      "metadata": {
        "id": "pFiz8CAcN03C",
        "colab_type": "code",
        "colab": {}
      },
      "source": [
        "epochs = 5\n",
        "for i in range(epochs):\n",
        "  train(model,device,train_loader,optimizer,lossFun,i)\n",
        "  test(model,device,test_loader,lossFun)\n"
      ],
      "execution_count": 0,
      "outputs": []
    },
    {
      "cell_type": "code",
      "metadata": {
        "id": "Rvo2nU_nRIJj",
        "colab_type": "code",
        "colab": {}
      },
      "source": [
        ""
      ],
      "execution_count": 0,
      "outputs": []
    },
    {
      "cell_type": "markdown",
      "metadata": {
        "id": "ZaOn5Wk0U2CM",
        "colab_type": "text"
      },
      "source": [
        ""
      ]
    }
  ]
}